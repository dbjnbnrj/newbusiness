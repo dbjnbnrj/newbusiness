{
 "cells": [
  {
   "cell_type": "code",
   "execution_count": 2,
   "metadata": {
    "collapsed": true,
    "scrolled": true
   },
   "outputs": [],
   "source": [
    "import pandas as pd\n",
    "import numpy as np\n",
    "import matplotlib.pyplot as plt\n",
    "import os\n",
    "import json\n",
    "import pprint\n",
    "import pylab as pl\n",
    "import numpy as np\n",
    "import cPickle as pickle\n",
    " \n",
    "\n",
    "# Limit rows disp# Limit rows displayed in notebook\n",
    "pd.set_option('display.max_rows', 20)\n",
    "pd.set_option('display.precision', 2)"
   ]
  },
  {
   "cell_type": "code",
   "execution_count": 3,
   "metadata": {
    "collapsed": false,
    "scrolled": true
   },
   "outputs": [],
   "source": [
    "pd_lasvegas = pickle.load( open('pd_lasvegas.pkl', 'rb'))"
   ]
  },
  {
   "cell_type": "code",
   "execution_count": 4,
   "metadata": {
    "collapsed": false
   },
   "outputs": [],
   "source": [
    "pd_lasvegas.rename(columns={'date_x': 'review_date'}, inplace=True)\n",
    "pd_lasvegas.rename(columns={'date_y': 'start_date'}, inplace=True)\n",
    "pd_lasvegas.rename(columns={'stars_y': 'stars'}, inplace=True)\n",
    "pd_lasvegas.reset_index(level=0, inplace=True)"
   ]
  },
  {
   "cell_type": "code",
   "execution_count": 1,
   "metadata": {
    "collapsed": false,
    "scrolled": true
   },
   "outputs": [
    {
     "ename": "NameError",
     "evalue": "name 'pd_lasvegas' is not defined",
     "output_type": "error",
     "traceback": [
      "\u001b[0;31m---------------------------------------------------------------------------\u001b[0m",
      "\u001b[0;31mNameError\u001b[0m                                 Traceback (most recent call last)",
      "\u001b[0;32m<ipython-input-1-ff9f78331b50>\u001b[0m in \u001b[0;36m<module>\u001b[0;34m()\u001b[0m\n\u001b[1;32m     25\u001b[0m \u001b[0;34m\u001b[0m\u001b[0m\n\u001b[1;32m     26\u001b[0m \u001b[0;32mfor\u001b[0m \u001b[0mc\u001b[0m \u001b[0;32min\u001b[0m \u001b[0mrange\u001b[0m\u001b[0;34m(\u001b[0m\u001b[0;36m8\u001b[0m\u001b[0;34m)\u001b[0m\u001b[0;34m:\u001b[0m\u001b[0;34m\u001b[0m\u001b[0m\n\u001b[0;32m---> 27\u001b[0;31m     \u001b[0mpd_business_cluster\u001b[0m \u001b[0;34m=\u001b[0m  \u001b[0mpd_lasvegas\u001b[0m\u001b[0;34m[\u001b[0m\u001b[0mpd_lasvegas\u001b[0m\u001b[0;34m[\u001b[0m\u001b[0;34m'cluster'\u001b[0m\u001b[0;34m]\u001b[0m \u001b[0;34m==\u001b[0m \u001b[0mc\u001b[0m\u001b[0;34m]\u001b[0m\u001b[0;34m\u001b[0m\u001b[0m\n\u001b[0m\u001b[1;32m     28\u001b[0m     \u001b[0mpd_old_business_cluster\u001b[0m \u001b[0;34m=\u001b[0m \u001b[0mpd_business_cluster\u001b[0m\u001b[0;34m[\u001b[0m\u001b[0mpd_business_cluster\u001b[0m\u001b[0;34m[\u001b[0m\u001b[0;34m'new'\u001b[0m\u001b[0;34m]\u001b[0m \u001b[0;34m==\u001b[0m \u001b[0mFalse\u001b[0m\u001b[0;34m]\u001b[0m\u001b[0;34m\u001b[0m\u001b[0m\n\u001b[1;32m     29\u001b[0m     \u001b[0mpd_old_business_cluster\u001b[0m \u001b[0;34m=\u001b[0m \u001b[0mpd_old_business_cluster\u001b[0m\u001b[0;34m[\u001b[0m\u001b[0;34m[\u001b[0m\u001b[0;34m'business_id'\u001b[0m\u001b[0;34m,\u001b[0m \u001b[0;34m'review_date'\u001b[0m\u001b[0;34m,\u001b[0m \u001b[0;34m'stars'\u001b[0m\u001b[0;34m]\u001b[0m\u001b[0;34m]\u001b[0m\u001b[0;34m\u001b[0m\u001b[0m\n",
      "\u001b[0;31mNameError\u001b[0m: name 'pd_lasvegas' is not defined"
     ]
    }
   ],
   "source": [
    "'''Calculate the mean change in the ratings for all old business given a start date of one new business'''\n",
    "def calcAverage(df):\n",
    "    df_before = df[df['before'] == True]\n",
    "    df_after = df[df['before'] == False]\n",
    "    #print \"Before:\", df_before\n",
    "    #print \"After:\", df_after\n",
    "    #print \"----------------\"\n",
    "    l1 = len(df_before['stars'])\n",
    "    l2 = len(df_after['stars'])\n",
    "    \n",
    "    if l1 == 0 or l2 == 0:\n",
    "        return 0\n",
    "    else:\n",
    "        a = sum(df_before['stars']) / (len(df_before['stars'])*1.0)\n",
    "        b = sum(df_after['stars']) / (len(df_after['stars'])*1.0)\n",
    "        return a - b\n",
    "\n",
    "    \n",
    "#calculate mean for every new business\n",
    "import datetime\n",
    "\n",
    "def todate(d):\n",
    "    return datetime.datetime.strptime(d, '%Y-%m-%d')\n",
    "\n",
    "for c in range(8):\n",
    "    pd_business_cluster =  pd_lasvegas[pd_lasvegas['cluster'] == c]\n",
    "    pd_old_business_cluster = pd_business_cluster[pd_business_cluster['new'] == False]\n",
    "    pd_old_business_cluster = pd_old_business_cluster[['business_id', 'review_date', 'stars']]\n",
    "    pd_new_business_cluster = pd_business_cluster[pd_business_cluster['new'] == True]\n",
    " \n",
    "    start_date = pd_new_business_cluster['start_date'].iloc[0]\n",
    "    sdate = start_date\n",
    "    start_date = todate(start_date)\n",
    "    diff = datetime.timedelta(days=180)\n",
    "    pd_old_business_cluster = pd_old_business_cluster[pd_old_business_cluster.review_date.apply(todate) < start_date + diff]\n",
    "    #pd_old_business_cluster = pd_old_business_cluster[]\n",
    "    pd_old_business_cluster['before'] = (pd_old_business_cluster['review_date'] < sdate)\n",
    "    pd_old_business_cluster.groupby(['business_id']).apply(calcAverage).plot()\n",
    "    plt.show()"
   ]
  },
  {
   "cell_type": "code",
   "execution_count": null,
   "metadata": {
    "collapsed": true
   },
   "outputs": [],
   "source": [
    "'''Calculate the correlation coefficient'''\n",
    "\n",
    "import datetime\n",
    "\n",
    "def todate(d):\n",
    "    return datetime.datetime.strptime(d, '%Y-%m-%d')\n",
    "\n",
    "for c in range(8):\n",
    "    pd_business_cluster =  pd_lasvegas[pd_lasvegas['cluster'] == c]\n",
    "    pd_old_business_cluster = pd_business_cluster[pd_business_cluster['new'] == False]\n",
    "    pd_old_business_cluster = pd_old_business_cluster[['business_id', 'review_date', 'stars']]\n",
    "    pd_new_business_cluster = pd_business_cluster[pd_business_cluster['new'] == True]\n",
    " \n",
    "    start_date = pd_new_business_cluster['start_date'].iloc[0]\n",
    "    sdate = start_date\n",
    "    start_date = todate(start_date)\n",
    "    diff = datetime.timedelta(days=50)\n",
    "    pd_old_business_cluster = pd_old_business_cluster[pd_old_business_cluster.review_date.apply(todate) < start_date + diff]\n",
    "    break\n",
    "    "
   ]
  },
  {
   "cell_type": "code",
   "execution_count": null,
   "metadata": {
    "collapsed": true
   },
   "outputs": [],
   "source": []
  }
 ],
 "metadata": {
  "kernelspec": {
   "display_name": "Python 2",
   "language": "python",
   "name": "python2"
  },
  "language_info": {
   "codemirror_mode": {
    "name": "ipython",
    "version": 2
   },
   "file_extension": ".py",
   "mimetype": "text/x-python",
   "name": "python",
   "nbconvert_exporter": "python",
   "pygments_lexer": "ipython2",
   "version": "2.7.9"
  }
 },
 "nbformat": 4,
 "nbformat_minor": 0
}
