{
 "cells": [
  {
   "cell_type": "code",
   "execution_count": 1,
   "metadata": {
    "collapsed": true,
    "scrolled": true
   },
   "outputs": [],
   "source": [
    "import pandas as pd\n",
    "import numpy as np\n",
    "import matplotlib.pyplot as plt\n",
    "import os\n",
    "import json\n",
    "import pprint\n",
    "import pylab as pl\n",
    "import numpy as np\n",
    "\n",
    "# Limit rows disp# Limit rows displayed in notebook\n",
    "pd.set_option('display.max_rows', 20)\n",
    "pd.set_option('display.precision', 2)"
   ]
  },
  {
   "cell_type": "code",
   "execution_count": 2,
   "metadata": {
    "collapsed": false,
    "scrolled": true
   },
   "outputs": [
    {
     "name": "stdout",
     "output_type": "stream",
     "text": [
      "Creating Business Pandas\n",
      "Creating Review Pandas\n",
      "Completed Creating Pandas\n"
     ]
    }
   ],
   "source": [
    "import json\n",
    "import pandas\n",
    " \n",
    "def convertBusiness(x):\n",
    "    ob = json.loads(x)\n",
    "    return {\"business_id\":ob[\"business_id\"], \"stars\":ob[\"stars\"], \"city\":ob[\"city\"]}\n",
    "\n",
    "def convertReviews(x):\n",
    "    ''' Convert a json string to a flat python dictionary\n",
    "    which can be passed into Pandas. '''\n",
    "    ob = json.loads(x)\n",
    "    return {\"business_id\":ob[\"business_id\"], \"stars\":ob[\"stars\"], \"date\":ob[\"date\"]}\n",
    "\n",
    "def createPandas(func, json_filename):\n",
    "    result=[]\n",
    "    f=open(json_filename, 'r')\n",
    "    for line in f:\n",
    "        result.append(func(line))\n",
    "    return pd.DataFrame(result)\n",
    "\n",
    "print \"Creating Business Pandas\"\n",
    "pd_business = createPandas(convertBusiness,'yelp_dataset_challenge_academic_dataset/yelp_academic_dataset_business.json')\n",
    "print \"Creating Review Pandas\"\n",
    "pd_review = createPandas(convertReviews, 'yelp_dataset_challenge_academic_dataset/yelp_academic_dataset_review.json')\n",
    "print \"Completed Creating Pandas\"\n"
   ]
  },
  {
   "cell_type": "code",
   "execution_count": 3,
   "metadata": {
    "collapsed": false,
    "scrolled": true
   },
   "outputs": [
    {
     "name": "stdout",
     "output_type": "stream",
     "text": [
      "['business_id', 'city', 'date', 'stars']\n"
     ]
    }
   ],
   "source": [
    "#preprocess the business data\n",
    "pd_business_lasvegas = pd_business[pd_business[\"city\"] == \"Las Vegas\"]\n",
    "#remove the unwanted stars data present in business.json\n",
    "pd_business_lasvegas.pop('stars')\n",
    "\n",
    "pd_review_lasvegas = pd.merge(pd_business_lasvegas, pd_review, left_on='business_id', right_on='business_id', how='inner')\n",
    "print list(pd_review_lasvegas.columns.values)\n",
    "gb = pd_review_lasvegas.groupby(['business_id'],as_index=False)\n",
    "#print gb.size()\n",
    "gb = gb.agg({'date' : np.min})\n",
    "gb[\"new\"] = (gb[\"date\"] >= \"2011-01-01\")\n",
    "#print gb"
   ]
  },
  {
   "cell_type": "code",
   "execution_count": 4,
   "metadata": {
    "collapsed": false,
    "scrolled": true
   },
   "outputs": [],
   "source": [
    "pd_lasvegas = pd.merge(pd_review_lasvegas, gb, left_on='business_id', right_on='business_id', how='inner')\n",
    "pd_lasvegas.rename(columns={'date_y': 'start_date'}, inplace=True)\n",
    "#print pd_lasvegas"
   ]
  },
  {
   "cell_type": "code",
   "execution_count": 5,
   "metadata": {
    "collapsed": false,
    "scrolled": true
   },
   "outputs": [],
   "source": [
    "pd_old_business_vegas = pd_lasvegas[pd_lasvegas['new'] == False]\n",
    "pd_new_business_vegas = pd_lasvegas[pd_lasvegas['new'] == True]\n",
    "#print pd_old_business_vegas\n",
    "#print pd_new_business_vegas"
   ]
  },
  {
   "cell_type": "code",
   "execution_count": 18,
   "metadata": {
    "collapsed": false,
    "scrolled": true
   },
   "outputs": [
    {
     "name": "stderr",
     "output_type": "stream",
     "text": [
      "C:\\Anaconda\\lib\\site-packages\\IPython\\kernel\\__main__.py:10: SettingWithCopyWarning: \n",
      "A value is trying to be set on a copy of a slice from a DataFrame.\n",
      "Try using .loc[row_indexer,col_indexer] = value instead\n",
      "\n",
      "See the the caveats in the documentation: http://pandas.pydata.org/pandas-docs/stable/indexing.html#indexing-view-versus-copy\n",
      "C:\\Anaconda\\lib\\site-packages\\IPython\\kernel\\__main__.py:12: SettingWithCopyWarning: \n",
      "A value is trying to be set on a copy of a slice from a DataFrame.\n",
      "Try using .loc[row_indexer,col_indexer] = value instead\n",
      "\n",
      "See the the caveats in the documentation: http://pandas.pydata.org/pandas-docs/stable/indexing.html#indexing-view-versus-copy\n"
     ]
    },
    {
     "name": "stdout",
     "output_type": "stream",
     "text": [
      "(164700, 6)\n",
      "diff   -6.7e-02\n",
      "dtype: float64\n",
      "25346.9849999\n"
     ]
    }
   ],
   "source": [
    "import datetime\n",
    "import time\n",
    "global count\n",
    "count=0\n",
    "#calculate the mean change in the ratings for all old business given a start date of one new business\n",
    "def find_mean_change(start_date,time_gap,count):\n",
    "\n",
    "    from_start_date=pd.to_datetime(pd.to_datetime(start_date)-time_gap)\n",
    "    to_after_date=pd.to_datetime(pd.to_datetime(start_date)+time_gap)\n",
    "    pd_old_business_vegas['before']=((pd_old_business_vegas['date_x'] < start_date) & (pd.to_datetime(pd_old_business_vegas['date_x']) > from_start_date))\n",
    "    \n",
    "    pd_old_business_vegas['after']=((pd_old_business_vegas['date_x'] > start_date) & (pd.to_datetime(pd_old_business_vegas['date_x']) < to_after_date))\n",
    "    \n",
    "    pd_old_before=pd_old_business_vegas[pd_old_business_vegas['before']==True]\n",
    "    pd_old_after=pd_old_business_vegas[pd_old_business_vegas['after']==True]\n",
    "    #print pd_old_after\n",
    "\n",
    "    gb_before = pd_old_before.groupby(['business_id'], as_index=False)\n",
    "    gb_before = gb_before.agg({'stars' : np.mean})\n",
    "\n",
    "    gb_after=pd_old_after.groupby(['business_id'], as_index=False)\n",
    "    gb_after=gb_after.agg({'stars' : np.mean})\n",
    "\n",
    "    before_after_ratings=pd.merge(gb_before, gb_after, left_on='business_id', right_on='business_id', how='inner')\n",
    "    before_after_ratings.rename(columns={'stars_x': 'before_rating'}, inplace=True)\n",
    "    before_after_ratings.rename(columns={'stars_y': 'after_rating'}, inplace=True)\n",
    "    before_after_ratings['diff']=before_after_ratings['after_rating']-before_after_ratings['before_rating']\n",
    "    #print before_after_ratings\n",
    "\n",
    "    mean=before_after_ratings[['diff']].mean()\n",
    "    #print mean\n",
    "    count=count+1\n",
    "    return (mean, count)\n",
    "\n",
    "#calculate mean for every new business\n",
    "time_gap=datetime.timedelta(days=365)\n",
    "count=0\n",
    "mean=0\n",
    "print pd_new_business_vegas.shape\n",
    "start_time = time.time()\n",
    "for index, row in pd_new_business_vegas.iterrows():\n",
    "    mean_new, count_new=find_mean_change(row['start_date'],time_gap,count)\n",
    "    mean=mean+mean_new\n",
    "    count=count_new\n",
    "print mean/count\n",
    "print time.time()-start_time\n",
    "    "
   ]
  },
  {
   "cell_type": "code",
   "execution_count": null,
   "metadata": {
    "collapsed": false,
    "scrolled": true
   },
   "outputs": [],
   "source": []
  },
  {
   "cell_type": "code",
   "execution_count": null,
   "metadata": {
    "collapsed": false,
    "scrolled": true
   },
   "outputs": [],
   "source": []
  },
  {
   "cell_type": "code",
   "execution_count": null,
   "metadata": {
    "collapsed": false,
    "scrolled": true
   },
   "outputs": [],
   "source": []
  },
  {
   "cell_type": "code",
   "execution_count": null,
   "metadata": {
    "collapsed": true
   },
   "outputs": [],
   "source": []
  }
 ],
 "metadata": {
  "kernelspec": {
   "display_name": "Python 2",
   "language": "python",
   "name": "python2"
  },
  "language_info": {
   "codemirror_mode": {
    "name": "ipython",
    "version": 2
   },
   "file_extension": ".py",
   "mimetype": "text/x-python",
   "name": "python",
   "nbconvert_exporter": "python",
   "pygments_lexer": "ipython2",
   "version": "2.7.10"
  }
 },
 "nbformat": 4,
 "nbformat_minor": 0
}
