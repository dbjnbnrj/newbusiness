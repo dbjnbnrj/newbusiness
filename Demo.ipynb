{
 "metadata": {
  "name": "",
  "signature": "sha256:03a87e1298e92c8464849cf0ee910432da101ac09c626251adaa816ae7f284f5"
 },
 "nbformat": 3,
 "nbformat_minor": 0,
 "worksheets": [
  {
   "cells": [
    {
     "cell_type": "code",
     "collapsed": false,
     "input": [
      "import pandas as pd\n",
      "import numpy as np\n",
      "import matplotlib.pyplot as plt\n",
      "import os\n",
      "import json\n",
      "import pprint\n",
      "import math\n",
      "import json\n",
      "import numpy as np\n",
      "\n",
      "%matplotlib inline\n",
      "\n",
      "# Limit rows disp# Limit rows displayed in notebook\n",
      "pd.set_option('display.max_rows', 20)\n",
      "pd.set_option('display.precision', 2)"
     ],
     "language": "python",
     "metadata": {},
     "outputs": [],
     "prompt_number": 2
    },
    {
     "cell_type": "code",
     "collapsed": false,
     "input": [
      "''' Reading the Businesses '''\n",
      "\n",
      "def readJson(filename):\n",
      "    f = open(filename,'r')\n",
      "    jsonList = f.readlines()\n",
      "    f.close()\n",
      "    return [json.loads(s) for s in jsonList]\n",
      "\n",
      "business = readJson('yelp_dataset_challenge_academic_dataset/yelp_academic_dataset_business.json')"
     ],
     "language": "python",
     "metadata": {},
     "outputs": [],
     "prompt_number": 4
    },
    {
     "cell_type": "code",
     "collapsed": false,
     "input": [
      "''' Get all business data for Phoenix '''\n",
      "\n",
      "phoenix_biz = []\n",
      "count = 0\n",
      "for i, biz in enumerate(business):\n",
      "    if biz[\"city\"] == \"Phoenix\":\n",
      "        phoeniz_biz.append(biz)\n",
      "        count+=1\n",
      "print count, \" businesses in Phoenix\"\n",
      "\n",
      "''' To save the biz '''\n",
      "import cPickle\n",
      "\n",
      "f = file('phoenix.pkl', 'wb')\n",
      "cPickle.dump(phoenix_biz, f, protocol=cPickle.HIGHEST_PROTOCOL)\n",
      "f.close()"
     ],
     "language": "python",
     "metadata": {},
     "outputs": [
      {
       "output_type": "stream",
       "stream": "stdout",
       "text": [
        "8410  businesses in Phoenix\n"
       ]
      }
     ],
     "prompt_number": 6
    },
    {
     "cell_type": "code",
     "collapsed": false,
     "input": [
      "''' Creating data for clustering '''\n",
      "\n",
      "X, Y = [], []\n",
      "\n",
      "for p in phoenix_biz:\n",
      "    X.append((p[\"latitude\"], p[\"longitude\"]))\n",
      "    Y.append(p[\"business_id\"])"
     ],
     "language": "python",
     "metadata": {},
     "outputs": [],
     "prompt_number": 10
    },
    {
     "cell_type": "code",
     "collapsed": false,
     "input": [
      "''' DBScan : Not useful creates single cluster '''\n",
      "from sklearn.cluster import DBSCAN\n",
      "from sklearn import metrics\n",
      "from sklearn.preprocessing import StandardScaler\n",
      "\n",
      "X = StandardScaler().fit_transform(X)\n",
      "db = DBSCAN(eps=0.3, min_samples=10, algorithm='kd_tree').fit(X, Y)\n",
      "core_samples_mask = np.zeros_like(db.labels_, dtype=bool)\n",
      "core_samples_mask[db.core_sample_indices_] = True\n",
      "labels = db.labels_\n",
      "\n",
      "import matplotlib.pyplot as plt\n",
      "\n",
      "n_clusters_ = len(set(labels)) - (1 if -1 in labels else 0)\n",
      "# Black removed and is used for noise instead.\n",
      "unique_labels = set(labels)\n",
      "colors = plt.cm.Spectral(np.linspace(0, 1, len(unique_labels)))\n",
      "for k, col in zip(unique_labels, colors):\n",
      "    if k == -1:\n",
      "        # Black used for noise.\n",
      "        col = 'k'\n",
      "\n",
      "    class_member_mask = (labels == k)\n",
      "\n",
      "    xy = X[class_member_mask & core_samples_mask]\n",
      "    plt.plot(xy[:, 0], xy[:, 1], 'o', markerfacecolor=col,\n",
      "             markeredgecolor='k', markersize=14)\n",
      "\n",
      "    xy = X[class_member_mask & ~core_samples_mask]\n",
      "    plt.plot(xy[:, 0], xy[:, 1], 'o', markerfacecolor=col,\n",
      "             markeredgecolor='k', markersize=6)\n",
      "\n",
      "plt.title('Estimated number of clusters: %d' % n_clusters_)\n",
      "plt.show()\n",
      "\n",
      "''' Checking which Business is in which cluster '''\n",
      "\n",
      "#for i in db.core_sample_indices_:\n",
      "#    print Y[i], X[i], labels[i]"
     ],
     "language": "python",
     "metadata": {},
     "outputs": [
      {
       "output_type": "stream",
       "stream": "stdout",
       "text": [
        "[0 0 0 ..., 0 0 0]\n"
       ]
      }
     ],
     "prompt_number": 16
    },
    {
     "cell_type": "code",
     "collapsed": false,
     "input": [
      "''' K Means Clustering '''\n",
      "from scipy.cluster.vq import kmeans,kmeans2, vq\n",
      "\n",
      "'''\n",
      "k = math.sqrt(len(Y) / 2) # Returns 64 too high\n",
      "Elbow Method\n",
      "\n",
      "initial = [cluster.vq.kmeans(X,i) for i in range(1,10)]\n",
      "pyplot.plot([var for (cent,var) in initial])\n",
      "pyplot.show()\n",
      "'''\n",
      "\n",
      "fignum = 1\n",
      "for k in range(8,8):\n",
      "    centroids,_ = kmeans(X, k)\n",
      "    idx,_ = vq(X,centroids)\n",
      "    colors = plt.cm.Spectral(np.linspace(0, 1, k))\n",
      "    \n",
      "    for i in range(k):\n",
      "        plt.plot(X[idx==i,0],X[idx==i,1],'o', markerfacecolor=colors[i])\n",
      "    plt.plot(centroids[:,0],centroids[:,1],'sm',markersize=8)\n",
      "    plt.title(\"KMeans For Cluster Size %d\" % k)\n",
      "    plt.show()\n",
      "    \n",
      "''' As 8 seems to be the best cluster size'''\n",
      "centroids, labels = kmeans2(X, 8)\n",
      "\n",
      "for i, l in enumerate(labels):\n",
      "    phoenix_biz[i][\"cluster\"] = labels[i]"
     ],
     "language": "python",
     "metadata": {},
     "outputs": [],
     "prompt_number": 48
    },
    {
     "cell_type": "code",
     "collapsed": false,
     "input": [
      "''' Pandas Demo '''\n",
      "\n",
      "def convert(x):\n",
      "    ''' Convert a json string to a flat python dictionary\n",
      "    which can be passed into Pandas. '''\n",
      "    ob = x\n",
      "    for k, v in ob.items():\n",
      "        if isinstance(v, list):\n",
      "            ob[k] = ','.join(v)\n",
      "        elif isinstance(v, dict):\n",
      "            for kk, vv in v.items():\n",
      "                ob['%s_%s' % (k, kk)] = vv\n",
      "            del ob[k]\n",
      "    return ob\n",
      "\n",
      "\n",
      "df = pd.DataFrame([convert(line) for line in phoenix_biz])\n",
      "\n",
      "#df[df['cluster']==2]\n",
      "\n",
      "df[['name', 'latitude', 'longitude','cluster']][df['cluster']==1]"
     ],
     "language": "python",
     "metadata": {},
     "outputs": [],
     "prompt_number": 88
    },
    {
     "cell_type": "code",
     "collapsed": false,
     "input": [
      "reviews = readJson('yelp_dataset_challenge_academic_dataset/yelp_academic_dataset_review.json')\n",
      "df_reviews = pd.DataFrame([convert(line) for line in reviews])"
     ],
     "language": "python",
     "metadata": {},
     "outputs": [],
     "prompt_number": 100
    },
    {
     "cell_type": "code",
     "collapsed": false,
     "input": [
      "df_reviews = pd.DataFrame([convert(line) for line in reviews])"
     ],
     "language": "python",
     "metadata": {},
     "outputs": [],
     "prompt_number": 101
    },
    {
     "cell_type": "code",
     "collapsed": false,
     "input": [
      "joinedf = df.join(df_reviews, on='business_id')"
     ],
     "language": "python",
     "metadata": {},
     "outputs": [
      {
       "ename": "ValueError",
       "evalue": "columns overlap but no suffix specified: Index([ u'business_id',         u'date',    u'review_id',        u'stars',\n               u'text',         u'type',      u'user_id',   u'votes_cool',\n        u'votes_funny', u'votes_useful'],\n      dtype='object')",
       "output_type": "pyerr",
       "traceback": [
        "\u001b[1;31m---------------------------------------------------------------------------\u001b[0m\n\u001b[1;31mValueError\u001b[0m                                Traceback (most recent call last)",
        "\u001b[1;32m<ipython-input-102-65b4c2afd819>\u001b[0m in \u001b[0;36m<module>\u001b[1;34m()\u001b[0m\n\u001b[1;32m----> 1\u001b[1;33m \u001b[0mjoinedf\u001b[0m \u001b[1;33m=\u001b[0m \u001b[0mdf\u001b[0m\u001b[1;33m.\u001b[0m\u001b[0mjoin\u001b[0m\u001b[1;33m(\u001b[0m\u001b[0mdf_reviews\u001b[0m\u001b[1;33m,\u001b[0m \u001b[0mon\u001b[0m\u001b[1;33m=\u001b[0m\u001b[1;34m'business_id'\u001b[0m\u001b[1;33m)\u001b[0m\u001b[1;33m\u001b[0m\u001b[0m\n\u001b[0m",
        "\u001b[1;32m/usr/local/lib/python2.7/dist-packages/pandas/core/frame.pyc\u001b[0m in \u001b[0;36mjoin\u001b[1;34m(self, other, on, how, lsuffix, rsuffix, sort)\u001b[0m\n\u001b[0;32m   4008\u001b[0m         \u001b[1;31m# For SparseDataFrame's benefit\u001b[0m\u001b[1;33m\u001b[0m\u001b[1;33m\u001b[0m\u001b[0m\n\u001b[0;32m   4009\u001b[0m         return self._join_compat(other, on=on, how=how, lsuffix=lsuffix,\n\u001b[1;32m-> 4010\u001b[1;33m                                  rsuffix=rsuffix, sort=sort)\n\u001b[0m\u001b[0;32m   4011\u001b[0m \u001b[1;33m\u001b[0m\u001b[0m\n\u001b[0;32m   4012\u001b[0m     def _join_compat(self, other, on=None, how='left', lsuffix='', rsuffix='',\n",
        "\u001b[1;32m/usr/local/lib/python2.7/dist-packages/pandas/core/frame.pyc\u001b[0m in \u001b[0;36m_join_compat\u001b[1;34m(self, other, on, how, lsuffix, rsuffix, sort)\u001b[0m\n\u001b[0;32m   4022\u001b[0m             return merge(self, other, left_on=on, how=how,\n\u001b[0;32m   4023\u001b[0m                          \u001b[0mleft_index\u001b[0m\u001b[1;33m=\u001b[0m\u001b[0mon\u001b[0m \u001b[1;32mis\u001b[0m \u001b[0mNone\u001b[0m\u001b[1;33m,\u001b[0m \u001b[0mright_index\u001b[0m\u001b[1;33m=\u001b[0m\u001b[0mTrue\u001b[0m\u001b[1;33m,\u001b[0m\u001b[1;33m\u001b[0m\u001b[0m\n\u001b[1;32m-> 4024\u001b[1;33m                          suffixes=(lsuffix, rsuffix), sort=sort)\n\u001b[0m\u001b[0;32m   4025\u001b[0m         \u001b[1;32melse\u001b[0m\u001b[1;33m:\u001b[0m\u001b[1;33m\u001b[0m\u001b[0m\n\u001b[0;32m   4026\u001b[0m             \u001b[1;32mif\u001b[0m \u001b[0mon\u001b[0m \u001b[1;32mis\u001b[0m \u001b[1;32mnot\u001b[0m \u001b[0mNone\u001b[0m\u001b[1;33m:\u001b[0m\u001b[1;33m\u001b[0m\u001b[0m\n",
        "\u001b[1;32m/usr/local/lib/python2.7/dist-packages/pandas/tools/merge.pyc\u001b[0m in \u001b[0;36mmerge\u001b[1;34m(left, right, how, on, left_on, right_on, left_index, right_index, sort, suffixes, copy)\u001b[0m\n\u001b[0;32m     36\u001b[0m                          \u001b[0mright_index\u001b[0m\u001b[1;33m=\u001b[0m\u001b[0mright_index\u001b[0m\u001b[1;33m,\u001b[0m \u001b[0msort\u001b[0m\u001b[1;33m=\u001b[0m\u001b[0msort\u001b[0m\u001b[1;33m,\u001b[0m \u001b[0msuffixes\u001b[0m\u001b[1;33m=\u001b[0m\u001b[0msuffixes\u001b[0m\u001b[1;33m,\u001b[0m\u001b[1;33m\u001b[0m\u001b[0m\n\u001b[0;32m     37\u001b[0m                          copy=copy)\n\u001b[1;32m---> 38\u001b[1;33m     \u001b[1;32mreturn\u001b[0m \u001b[0mop\u001b[0m\u001b[1;33m.\u001b[0m\u001b[0mget_result\u001b[0m\u001b[1;33m(\u001b[0m\u001b[1;33m)\u001b[0m\u001b[1;33m\u001b[0m\u001b[0m\n\u001b[0m\u001b[0;32m     39\u001b[0m \u001b[1;32mif\u001b[0m \u001b[0m__debug__\u001b[0m\u001b[1;33m:\u001b[0m\u001b[1;33m\u001b[0m\u001b[0m\n\u001b[0;32m     40\u001b[0m     \u001b[0mmerge\u001b[0m\u001b[1;33m.\u001b[0m\u001b[0m__doc__\u001b[0m \u001b[1;33m=\u001b[0m \u001b[0m_merge_doc\u001b[0m \u001b[1;33m%\u001b[0m \u001b[1;34m'\\nleft : DataFrame'\u001b[0m\u001b[1;33m\u001b[0m\u001b[0m\n",
        "\u001b[1;32m/usr/local/lib/python2.7/dist-packages/pandas/tools/merge.pyc\u001b[0m in \u001b[0;36mget_result\u001b[1;34m(self)\u001b[0m\n\u001b[0;32m    190\u001b[0m \u001b[1;33m\u001b[0m\u001b[0m\n\u001b[0;32m    191\u001b[0m         llabels, rlabels = items_overlap_with_suffix(ldata.items, lsuf,\n\u001b[1;32m--> 192\u001b[1;33m                                                      rdata.items, rsuf)\n\u001b[0m\u001b[0;32m    193\u001b[0m \u001b[1;33m\u001b[0m\u001b[0m\n\u001b[0;32m    194\u001b[0m         \u001b[0mlindexers\u001b[0m \u001b[1;33m=\u001b[0m \u001b[1;33m{\u001b[0m\u001b[1;36m1\u001b[0m\u001b[1;33m:\u001b[0m \u001b[0mleft_indexer\u001b[0m\u001b[1;33m}\u001b[0m \u001b[1;32mif\u001b[0m \u001b[0mleft_indexer\u001b[0m \u001b[1;32mis\u001b[0m \u001b[1;32mnot\u001b[0m \u001b[0mNone\u001b[0m \u001b[1;32melse\u001b[0m \u001b[1;33m{\u001b[0m\u001b[1;33m}\u001b[0m\u001b[1;33m\u001b[0m\u001b[0m\n",
        "\u001b[1;32m/usr/local/lib/python2.7/dist-packages/pandas/core/internals.pyc\u001b[0m in \u001b[0;36mitems_overlap_with_suffix\u001b[1;34m(left, lsuffix, right, rsuffix)\u001b[0m\n\u001b[0;32m   3965\u001b[0m         \u001b[1;32mif\u001b[0m \u001b[1;32mnot\u001b[0m \u001b[0mlsuffix\u001b[0m \u001b[1;32mand\u001b[0m \u001b[1;32mnot\u001b[0m \u001b[0mrsuffix\u001b[0m\u001b[1;33m:\u001b[0m\u001b[1;33m\u001b[0m\u001b[0m\n\u001b[0;32m   3966\u001b[0m             raise ValueError('columns overlap but no suffix specified: %s' %\n\u001b[1;32m-> 3967\u001b[1;33m                              to_rename)\n\u001b[0m\u001b[0;32m   3968\u001b[0m \u001b[1;33m\u001b[0m\u001b[0m\n\u001b[0;32m   3969\u001b[0m         \u001b[1;32mdef\u001b[0m \u001b[0mlrenamer\u001b[0m\u001b[1;33m(\u001b[0m\u001b[0mx\u001b[0m\u001b[1;33m)\u001b[0m\u001b[1;33m:\u001b[0m\u001b[1;33m\u001b[0m\u001b[0m\n",
        "\u001b[1;31mValueError\u001b[0m: columns overlap but no suffix specified: Index([ u'business_id',         u'date',    u'review_id',        u'stars',\n               u'text',         u'type',      u'user_id',   u'votes_cool',\n        u'votes_funny', u'votes_useful'],\n      dtype='object')"
       ]
      }
     ],
     "prompt_number": 102
    }
   ],
   "metadata": {}
  }
 ]
}