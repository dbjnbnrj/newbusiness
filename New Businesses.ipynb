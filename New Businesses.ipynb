{
 "cells": [
  {
   "cell_type": "code",
   "execution_count": 1,
   "metadata": {
    "collapsed": true
   },
   "outputs": [],
   "source": [
    "import pandas as pd\n",
    "import numpy as np\n",
    "import matplotlib.pyplot as plt\n",
    "import os\n",
    "import json\n",
    "import pprint\n",
    "from boto.s3.connection import S3Connection\n",
    "from sklearn.cluster import DBSCAN\n",
    "from sklearn import metrics\n",
    "from sklearn.datasets.samples_generator import make_blobs\n",
    "from sklearn.preprocessing import StandardScaler\n",
    "import pylab as pl\n",
    "import numpy as np\n",
    "import pandas as pd"
   ]
  },
  {
   "cell_type": "code",
   "execution_count": 36,
   "metadata": {
    "collapsed": false
   },
   "outputs": [],
   "source": [
    "def convert(x):\n",
    "    ''' Convert a json string to a flat python dictionary\n",
    "    which can be passed into Pandas. '''\n",
    "    ob = json.loads(x)\n",
    "    for k, v in ob.items():\n",
    "        if isinstance(v, list):\n",
    "            ob[k] = ','.join(v)\n",
    "        elif isinstance(v, dict):\n",
    "            for kk, vv in v.items():\n",
    "                ob['%s_%s' % (k, kk)] = vv\n",
    "            del ob[k]\n",
    "    return ob\n",
    "\n",
    "def convert_2(x):\n",
    "    ''' Convert a json string to a flat python dictionary\n",
    "    which can be passed into Pandas. '''\n",
    "    ob = json.loads(x)\n",
    "    return {\"business_id\":ob[\"business_id\"], \"stars\":ob[\"stars\"], \"date\":ob[\"date\"]}\n",
    "\n",
    "# Returning Business DataFrame\n",
    "json_filename = 'yelp_dataset_challenge_academic_dataset/yelp_academic_dataset_business.json'\n",
    "df_business = pd.DataFrame([convert(line) for line in file(json_filename)])\n",
    "\n",
    "json_filename = 'yelp_dataset_challenge_academic_dataset/yelp_academic_dataset_review.json'\n",
    "df_review = pd.DataFrame([convert_2(line) for line in file(json_filename)])"
   ]
  },
  {
   "cell_type": "code",
   "execution_count": 96,
   "metadata": {
    "collapsed": false,
    "scrolled": true
   },
   "outputs": [],
   "source": [
    "# Find the Las Vegas Restaurants\n",
    "#df_business_1 = df_business[[\"business_id\",\"name\", \"city\", \"stars\"]][df_business['city']==\"Las Vegas\"]\n",
    "\n",
    "# Merge the restaurants and businesses together\n",
    "#df_review_business = pd.merge(df_business_1, df_review, left_on='business_id', right_on='business_id', how='inner')\n",
    "\n",
    "# Find the Vegas Restaurants opened before 2011\n",
    "df_review_business.to_csv(\"business_reviews.csv\")"
   ]
  },
  {
   "cell_type": "code",
   "execution_count": 101,
   "metadata": {
    "collapsed": false
   },
   "outputs": [],
   "source": [
    "d = {}\n",
    "for line in file(\"business_reviews.csv\"):\n",
    "    ele = line.split(\",\")\n",
    "    if ele[1] not in d:\n",
    "        d[ele[1]] = ele[5]\n",
    "    else:\n",
    "        if ele[5] < d[ele[1]]:\n",
    "            d[ele[1]] = ele[5]"
   ]
  },
  {
   "cell_type": "code",
   "execution_count": 108,
   "metadata": {
    "collapsed": false
   },
   "outputs": [],
   "source": [
    "f = open(\"business_reviews_final.csv\", \"w\")\n",
    "newcount = 0\n",
    "for line in file(\"business_reviews.csv\"):\n",
    "    ele = line.split(\",\")\n",
    "    ty = \"old\"\n",
    "    if d[ele[1]] >= '2011-01-01':\n",
    "        ty = \"new\"\n",
    "        newcount+=1\n",
    "    # Not considering new businesses after 2012\n",
    "    if d[ele[1]] <= '2012-01-01':\n",
    "        f.write(line+\",\"+ty+\"\\n\")\n",
    "f.close()"
   ]
  }
 ],
 "metadata": {
  "kernelspec": {
   "display_name": "Python 2",
   "language": "python",
   "name": "python2"
  },
  "language_info": {
   "codemirror_mode": {
    "name": "ipython",
    "version": 2
   },
   "file_extension": ".py",
   "mimetype": "text/x-python",
   "name": "python",
   "nbconvert_exporter": "python",
   "pygments_lexer": "ipython2",
   "version": "2.7.9"
  }
 },
 "nbformat": 4,
 "nbformat_minor": 0
}
