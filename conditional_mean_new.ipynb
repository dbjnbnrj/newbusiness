{
 "cells": [
  {
   "cell_type": "code",
   "execution_count": 14,
   "metadata": {
    "collapsed": false
   },
   "outputs": [],
   "source": [
    "import pandas as pd\n",
    "import numpy as np\n",
    "import os\n",
    "import json\n",
    "import pprint\n",
    "import matplotlib.pylab as pylab\n",
    "from pylab import plot,show\n",
    "import numpy as np\n",
    "import cPickle as pickle\n",
    "import time\n",
    "\n",
    "%matplotlib inline\n",
    "\n",
    "# Limit rows disp# Limit rows displayed in notebook\n",
    "pd.set_option('display.max_rows', 20)\n",
    "pd.set_option('display.precision', 2)\n",
    "pylab.rcParams['figure.figsize'] = 16, 12"
   ]
  },
  {
   "cell_type": "markdown",
   "metadata": {},
   "source": [
    "Loading business details"
   ]
  },
  {
   "cell_type": "code",
   "execution_count": 15,
   "metadata": {
    "collapsed": false
   },
   "outputs": [],
   "source": [
    "pd_lasvegas = pickle.load( open('pd_lasvegas.pkl', 'rb'))\n",
    "pd_lasvegas.rename(columns={'date_x': 'review_date'}, inplace=True)\n",
    "pd_lasvegas.rename(columns={'date_y': 'start_date'}, inplace=True)\n",
    "pd_lasvegas.rename(columns={'stars_y': 'stars'}, inplace=True)\n",
    "pd_lasvegas.reset_index(level=0, inplace=True)\n",
    "pd_old_business_vegas = pd_lasvegas[pd_lasvegas['new'] == False]\n",
    "pd_new_business_vegas = pd_lasvegas[pd_lasvegas['new'] == True]"
   ]
  },
  {
   "cell_type": "markdown",
   "metadata": {},
   "source": [
    "Creating mesh data"
   ]
  },
  {
   "cell_type": "code",
   "execution_count": 18,
   "metadata": {
    "collapsed": false
   },
   "outputs": [
    {
     "name": "stdout",
     "output_type": "stream",
     "text": [
      "@  -lRpLc285MIpDKHQk3Tqug\n",
      "@  -tCiAYMimz6yQaaXiK7e6Q\n",
      "@  0GCpesRgXSVluFoB2otXlA\n",
      "@  0IV5L36XeQShzWiUhom9bQ\n",
      "@  0vmWkXuouMhbdTakyvZZ-g\n",
      "@  0w3SqrrhkxB_7t0Vhr6tQQ\n",
      "@  1Vaz1OBQGj7xiCxIBuQIvA\n",
      "@  1ZiGYjB9TMwmmvbJRWrB1g\n",
      "@  1hY0Q3BYDq6CJDQay2xRQA\n",
      "@  1onzRxmG-8J5ecUdHgkRhg\n",
      "@  2eR5ncG5RA2AaREzQRVTxA\n",
      "@  2lt03ZLGvgPApOKS7eKGOQ\n",
      "@  2pK1ecVaqpgp1k1OFJQ9Gg\n",
      "@  2tP7IwNgrcLepEj0wUh-Dw\n",
      "@  3FhOLs1Sxc89loLnIAQl1g\n",
      "@  3GTtkOthmbfipurFNwUZ7Q\n",
      "@  3Jhosy4nKJO3oUgU2ZfMIQ\n",
      "@  3_H-sx_fq0hJJ8S2W02frA\n",
      "@  3g0GUgnRE3ZNVXqKXebBAg\n",
      "@  3l2rx67A8ZuTnFTQrl-75Q\n",
      "@  3uUYfeMGAywRy1aN01n-Sg\n",
      "@  4V20KwXSSWz7A2OuiixVww\n",
      "@  5CuhWcKsiqBxAt_ZHwW8Vw\n",
      "@  5m2HPI3fp6Eq565mlquL0w\n"
     ]
    },
    {
     "name": "stderr",
     "output_type": "stream",
     "text": [
      "/usr/local/lib/python2.7/site-packages/IPython/kernel/__main__.py:85: SettingWithCopyWarning: \n",
      "A value is trying to be set on a copy of a slice from a DataFrame.\n",
      "Try using .loc[row_indexer,col_indexer] = value instead\n",
      "\n",
      "See the caveats in the documentation: http://pandas.pydata.org/pandas-docs/stable/indexing.html#indexing-view-versus-copy\n"
     ]
    }
   ],
   "source": [
    "'''Calculate the mean change in the ratings for all old business given a start date of one new business'''\n",
    "def calcAverage(df):\n",
    "    df_before = df[df['before'] == True]\n",
    "    df_after = df[df['before'] == False]\n",
    "\n",
    "    l1 = len(df_before['stars'])\n",
    "    l2 = len(df_after['stars'])\n",
    "\n",
    "    if l1 == 0 or l2 == 0:\n",
    "        return -1\n",
    "    else:\n",
    "        a = sum(df_before['stars']) / (len(df_before['stars'])*1.0)\n",
    "        b = sum(df_after['stars']) / (len(df_after['stars'])*1.0)\n",
    "        if a - b > 0:\n",
    "            return -1\n",
    "        else:\n",
    "            return 1\n",
    "    \n",
    "\n",
    "attrs = [u'attributes_Accepts Credit Cards', u'attributes_Accepts Insurance',\n",
    "       u'attributes_Ages Allowed', u'attributes_Alcohol',\n",
    "       u'attributes_Ambience', u'attributes_Attire', u'attributes_BYOB',\n",
    "       u'attributes_BYOB/Corkage', u'attributes_By Appointment Only',\n",
    "       u'attributes_Caters', u'attributes_Coat Check',\n",
    "       u'attributes_Corkage', u'attributes_Delivery',\n",
    "       u'attributes_Dietary Restrictions', u'attributes_Dogs Allowed',\n",
    "       u'attributes_Drive-Thru', u'attributes_Good For',\n",
    "       u'attributes_Good For Dancing', u'attributes_Good For Groups',\n",
    "       u'attributes_Good For Kids', u'attributes_Good for Kids',\n",
    "       u'attributes_Hair Types Specialized In', u'attributes_Happy Hour',\n",
    "       u'attributes_Has TV', u'attributes_Music',\n",
    "       u'attributes_Noise Level', u'attributes_Open 24 Hours',\n",
    "       u'attributes_Order at Counter', u'attributes_Outdoor Seating',\n",
    "       u'attributes_Parking', u'attributes_Payment Types',\n",
    "       u'attributes_Price Range', u'attributes_Smoking',\n",
    "       u'attributes_Take-out', u'attributes_Takes Reservations',\n",
    "       u'attributes_Waiter Service', u'attributes_Wheelchair Accessible',\n",
    "       u'attributes_Wi-Fi', u'categories',\n",
    "       u'hours_Friday', u'hours_Monday', u'hours_Saturday',\n",
    "       u'hours_Sunday', u'hours_Thursday', u'hours_Tuesday',\n",
    "       u'hours_Wednesday',u'neighborhoods', u'open']\n",
    "\n",
    "def getVector(old, new):\n",
    "    res = []\n",
    "    for attr in attrs:\n",
    "        if pd.isnull(old[attr]) or pd.isnull(new[attr]):\n",
    "            res.append(-1)\n",
    "        elif old[attr] == new[attr]:\n",
    "            res.append(1)\n",
    "        else:\n",
    "            res.append(-1)\n",
    "    return res\n",
    "\n",
    "def getVectors(oldVecs, newVec):\n",
    "    res = []\n",
    "    for bizid, oldVec in oldVecs:\n",
    "        res.append(getVector(oldVec.iloc[0], newVec))\n",
    "    return res\n",
    "\n",
    "#calculate mean for every new business\n",
    "import datetime\n",
    "\n",
    "def todate(d):\n",
    "    return datetime.datetime.strptime(d, '%Y-%m-%d')\n",
    "\n",
    "diff = datetime.timedelta(days=60)\n",
    "\n",
    "# Use cluster 0,1 for training\n",
    "X, Y = [], []\n",
    "\n",
    "for c in [0]:\n",
    "    pd_business_cluster =  pd_lasvegas[pd_lasvegas['cluster'] == c]\n",
    "    pd_old_business_cluster = pd_business_cluster[pd_business_cluster['new'] == False]\n",
    "    pd_old_business_stars = pd_old_business_cluster[['business_id', 'review_date', 'stars']]\n",
    "    pd_new_business_cluster = pd_business_cluster[pd_business_cluster['new'] == True]\n",
    "    pd_new_business_group = pd_new_business_cluster.groupby('business_id')\n",
    "    \n",
    "    #print \"Calculating vector for cluster \", c\n",
    "    start_time = time.time()\n",
    "    for pd_new_business_id, pd_new_business_details in pd_new_business_group:\n",
    "        print \"@ \", pd_new_business_id \n",
    "        start_date = todate(pd_new_business_details.iloc[0]['start_date'])\n",
    "        temp_x = getVectors(pd_old_business_cluster.groupby(\"business_id\"), pd_new_business_details.iloc[0])\n",
    "        pd_old_business_stars = pd_old_business_stars[pd_old_business_stars.review_date.apply(todate) < start_date + diff]\n",
    "        pd_old_business_cluster['before'] = (pd_old_business_cluster['review_date'].apply(todate) < start_date)\n",
    "        temp_y = pd_old_business_cluster.groupby(['business_id']).apply(calcAverage).values.tolist()\n",
    "        X.extend(temp_x)\n",
    "        Y.extend(temp_y)\n",
    "        \n",
    "        if len(X) > 10500:\n",
    "            break\n",
    "            \n",
    "    end_time = time.time()\n",
    "    #print \"Time taken is \", end_time - start_time\n",
    "    #print \"Completed calculating vector for cluster \", c"
   ]
  },
  {
   "cell_type": "code",
   "execution_count": 19,
   "metadata": {
    "collapsed": false
   },
   "outputs": [
    {
     "name": "stdout",
     "output_type": "stream",
     "text": [
      "LogisticRegression score: 0.598000\n",
      "SVM score: 0.604000\n"
     ]
    }
   ],
   "source": [
    "import numpy as np\n",
    "import matplotlib.pyplot as plt\n",
    "from sklearn import linear_model\n",
    "from sklearn.svm import SVC\n",
    "\n",
    "#X, Y = pickle.load(open('X_0.pkl', 'rb')), pickle.load(open('Y_0.pkl', 'rb'))\n",
    "X_train, Y_train = X[:10000], Y[:10000]\n",
    "X_test, Y_test = X[10000:10000+500], Y[10000:10000+500]\n",
    "\n",
    "logistic = linear_model.LogisticRegression()\n",
    "print('LogisticRegression score: %f'\n",
    "      % logistic.fit(X_train, Y_train).score(X_test, Y_test))\n",
    "clf = SVC()\n",
    "print('SVM score: %f' % clf.fit(X_train, Y_train).score(X_test, Y_test))"
   ]
  }
 ],
 "metadata": {
  "kernelspec": {
   "display_name": "Python 2",
   "language": "python",
   "name": "python2"
  },
  "language_info": {
   "codemirror_mode": {
    "name": "ipython",
    "version": 2
   },
   "file_extension": ".py",
   "mimetype": "text/x-python",
   "name": "python",
   "nbconvert_exporter": "python",
   "pygments_lexer": "ipython2",
   "version": "2.7.9"
  }
 },
 "nbformat": 4,
 "nbformat_minor": 0
}
